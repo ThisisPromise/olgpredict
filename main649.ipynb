{
 "cells": [
  {
   "cell_type": "code",
   "execution_count": null,
   "metadata": {},
   "outputs": [
    {
     "name": "stderr",
     "output_type": "stream",
     "text": [
      "c:\\Users\\k\\AppData\\Local\\Programs\\Python\\Python312\\Lib\\site-packages\\keras\\src\\layers\\rnn\\rnn.py:204: UserWarning: Do not pass an `input_shape`/`input_dim` argument to a layer. When using Sequential models, prefer using an `Input(shape)` object as the first layer in the model instead.\n",
      "  super().__init__(**kwargs)\n",
      "c:\\Users\\k\\AppData\\Local\\Programs\\Python\\Python312\\Lib\\site-packages\\keras\\src\\callbacks\\early_stopping.py:155: UserWarning: Early stopping conditioned on metric `val_loss` which is not available. Available metrics are: loss\n",
      "  current = self.get_monitor_value(logs)\n",
      "WARNING:absl:You are saving your model as an HDF5 file via `model.save()` or `keras.saving.save_model(model)`. This file format is considered legacy. We recommend using instead the native Keras format, e.g. `model.save('my_model.keras')` or `keras.saving.save_model(model, 'my_model.keras')`. \n"
     ]
    },
    {
     "name": "stdout",
     "output_type": "stream",
     "text": [
      "\u001b[1m1/1\u001b[0m \u001b[32m━━━━━━━━━━━━━━━━━━━━\u001b[0m\u001b[37m\u001b[0m \u001b[1m1s\u001b[0m 956ms/step\n",
      "\u001b[1m1/1\u001b[0m \u001b[32m━━━━━━━━━━━━━━━━━━━━\u001b[0m\u001b[37m\u001b[0m \u001b[1m0s\u001b[0m 79ms/step\n",
      "\u001b[1m1/1\u001b[0m \u001b[32m━━━━━━━━━━━━━━━━━━━━\u001b[0m\u001b[37m\u001b[0m \u001b[1m0s\u001b[0m 79ms/step\n",
      "\n",
      "Future Predictions:\n",
      "Best: [11 22 35 38 41 49 42]\n",
      "Better: [ 7 14 24 34 34 47 14]\n",
      "Good: [ 8 12 24 28 32 38 14]\n"
     ]
    }
   ],
   "source": [
    "import numpy as np\n",
    "import pandas as pd\n",
    "import tensorflow as tf\n",
    "from tensorflow.keras.models import Sequential\n",
    "from tensorflow.keras.layers import LSTM, Dense\n",
    "from tensorflow.keras.callbacks import EarlyStopping\n",
    "\n",
    "\n",
    "SEQ_LENGTH = 10  \n",
    "NUM_FEATURES = 7  \n",
    "MAX_NUM = 49  \n",
    "EPOCHS = 300  \n",
    "FUTURE_STEPS = 3  \n",
    "\n",
    "\n",
    "df = pd.read_csv(\"lotto649.csv\")  \n",
    "data = df.iloc[:, 1:].values \n",
    "\n",
    "\n",
    "data_normalized = data / MAX_NUM\n",
    "\n",
    "\n",
    "def create_sequences(data):\n",
    "    X, y = [], []\n",
    "    for i in range(len(data) - SEQ_LENGTH):\n",
    "        X.append(data[i:i + SEQ_LENGTH])\n",
    "        y.append(data[i + SEQ_LENGTH])\n",
    "    return np.array(X), np.array(y)\n",
    "\n",
    "\n",
    "X, y = create_sequences(data_normalized)\n",
    "\n",
    "\n",
    "def build_model():\n",
    "    model = Sequential([\n",
    "        LSTM(128, return_sequences=True, input_shape=(SEQ_LENGTH, NUM_FEATURES)),\n",
    "        LSTM(128),\n",
    "        Dense(128, activation='relu'),\n",
    "        Dense(NUM_FEATURES, activation='linear')\n",
    "    ])\n",
    "    model.compile(optimizer='adam', loss='mae')\n",
    "    return model\n",
    "\n",
    "\n",
    "model = build_model()\n",
    "model.fit(X, y, epochs=EPOCHS, batch_size=16, \n",
    "          callbacks=[EarlyStopping(patience=30)], verbose=0)\n",
    "model.save(\"model649.h5\")\n",
    "\n",
    "last_sequence = X[-1]\n",
    "future_predictions = []\n",
    "\n",
    "for i in range(FUTURE_STEPS):\n",
    "    pred = model.predict(last_sequence.reshape(1, SEQ_LENGTH, NUM_FEATURES))\n",
    "    pred_denormalized = np.round(pred.reshape(NUM_FEATURES) * MAX_NUM).astype(int)\n",
    "\n",
    "    \n",
    "    perturbation = np.random.randint(-3, 4, size=NUM_FEATURES)\n",
    "    pred_denormalized += perturbation\n",
    "    pred_denormalized = np.clip(pred_denormalized, 1, MAX_NUM)\n",
    "\n",
    "    future_predictions.append(pred_denormalized)\n",
    "    last_sequence = np.vstack([last_sequence[1:], pred / MAX_NUM])  \n",
    "\n",
    "\n",
    "labels = [\"Best\", \"Better\", \"Good\"]\n",
    "print(\"\\nFuture Predictions:\")\n",
    "for i, draw in enumerate(future_predictions):\n",
    "    print(f\"{labels[i]}: {draw}\")\n"
   ]
  }
 ],
 "metadata": {
  "kernelspec": {
   "display_name": "Python 3",
   "language": "python",
   "name": "python3"
  },
  "language_info": {
   "codemirror_mode": {
    "name": "ipython",
    "version": 3
   },
   "file_extension": ".py",
   "mimetype": "text/x-python",
   "name": "python",
   "nbconvert_exporter": "python",
   "pygments_lexer": "ipython3",
   "version": "3.12.3"
  }
 },
 "nbformat": 4,
 "nbformat_minor": 2
}
